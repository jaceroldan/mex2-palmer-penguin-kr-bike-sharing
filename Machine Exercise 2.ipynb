{
 "cells": [
  {
   "cell_type": "markdown",
   "metadata": {},
   "source": [
    "# AI 221 Machine Exercise 2\n",
    "# Name | SN | Batch\n",
    "#\n",
    "To replicate the results of the notebook, run all cells in sequence."
   ]
  },
  {
   "cell_type": "code",
   "execution_count": 1,
   "metadata": {},
   "outputs": [],
   "source": [
    "#Import libraries\n",
    "import os\n",
    "import sklearn as sk\n",
    "import pandas as pd\n",
    "import numpy as np\n",
    "import seaborn as sn\n",
    "import matplotlib.pyplot as plt\n",
    "import optuna\n",
    "\n",
    "from sklearn.model_selection import train_test_split\n",
    "from sklearn.pipeline import Pipeline\n",
    "from sklearn.preprocessing import StandardScaler\n",
    "from sklearn.linear_model import LinearRegression\n",
    "from sklearn.svm import SVC, SVR\n",
    "from sklearn.kernel_ridge import KernelRidge\n",
    "from sklearn.metrics import root_mean_squared_error,mean_squared_error\n",
    "from sklearn.model_selection import validation_curve"
   ]
  },
  {
   "cell_type": "code",
   "execution_count": 2,
   "metadata": {},
   "outputs": [
    {
     "name": "stdout",
     "output_type": "stream",
     "text": [
      "Seed used for randomizer: 413094539\n",
      "Palmer Penguin Train-test Splitter Seed: 383458658\n",
      "Palmer Penguin SVM Classifier Seed: 52056122\n",
      "Bike Sharing Train-test Splitter Seed: 470541649\n",
      "Bike Sharing SVM Classifier Seed: 948028578\n"
     ]
    }
   ],
   "source": [
    "seed = 413094539 #seed used for the report\n",
    "#uncomment to generate a new seed\n",
    "#seed = np.random.randint((2**31)-1)\n",
    "rng = np.random.default_rng(seed)\n",
    "penguin_split_seed = rng.integers((2**31)-1)\n",
    "penguin_svc_state = rng.integers((2**31)-1)\n",
    "bike_split_seed = rng.integers((2**31)-1)\n",
    "bike_svr_state = rng.integers((2**31)-1)\n",
    "\n",
    "\n",
    "print(f\"Seed used for randomizer: {seed}\")\n",
    "print(f\"Palmer Penguin Train-test Splitter Seed: {penguin_split_seed}\")\n",
    "print(f\"Palmer Penguin SVM Classifier Seed: {penguin_svc_state}\")\n",
    "print(f\"Bike Sharing Train-test Splitter Seed: {bike_split_seed}\")\n",
    "print(f\"Bike Sharing SVM Classifier Seed: {bike_svr_state}\")"
   ]
  },
  {
   "cell_type": "markdown",
   "metadata": {},
   "source": [
    "## Problem 1: Palmer Penguin Species Data Set"
   ]
  },
  {
   "cell_type": "code",
   "execution_count": 3,
   "metadata": {},
   "outputs": [
    {
     "name": "stdout",
     "output_type": "stream",
     "text": [
      "    species     island  culmen_length_mm  culmen_depth_mm  flipper_length_mm  \\\n",
      "0    Adelie  Torgersen              39.1             18.7              181.0   \n",
      "1    Adelie  Torgersen              39.5             17.4              186.0   \n",
      "2    Adelie  Torgersen              40.3             18.0              195.0   \n",
      "3    Adelie  Torgersen               NaN              NaN                NaN   \n",
      "4    Adelie  Torgersen              36.7             19.3              193.0   \n",
      "..      ...        ...               ...              ...                ...   \n",
      "339  Gentoo     Biscoe               NaN              NaN                NaN   \n",
      "340  Gentoo     Biscoe              46.8             14.3              215.0   \n",
      "341  Gentoo     Biscoe              50.4             15.7              222.0   \n",
      "342  Gentoo     Biscoe              45.2             14.8              212.0   \n",
      "343  Gentoo     Biscoe              49.9             16.1              213.0   \n",
      "\n",
      "     body_mass_g     sex  \n",
      "0         3750.0    MALE  \n",
      "1         3800.0  FEMALE  \n",
      "2         3250.0  FEMALE  \n",
      "3            NaN     NaN  \n",
      "4         3450.0  FEMALE  \n",
      "..           ...     ...  \n",
      "339          NaN     NaN  \n",
      "340       4850.0  FEMALE  \n",
      "341       5750.0    MALE  \n",
      "342       5200.0  FEMALE  \n",
      "343       5400.0    MALE  \n",
      "\n",
      "[344 rows x 7 columns]\n"
     ]
    }
   ],
   "source": [
    "#Load the palmer penguins dataset\n",
    "df_p = pd.read_csv(\"./datasets/penguins_size.csv\")\n",
    "print(df_p)\n"
   ]
  },
  {
   "cell_type": "markdown",
   "metadata": {},
   "source": [
    "## Problem 2: Predicting Bike Sharing Demand in Seoul, South Korea"
   ]
  },
  {
   "cell_type": "code",
   "execution_count": 4,
   "metadata": {},
   "outputs": [
    {
     "name": "stdout",
     "output_type": "stream",
     "text": [
      "            Date  Rented Bike Count  Hour  Temperature(�C)  Humidity(%)  \\\n",
      "0     01/12/2017                254     0             -5.2           37   \n",
      "1     01/12/2017                204     1             -5.5           38   \n",
      "2     01/12/2017                173     2             -6.0           39   \n",
      "3     01/12/2017                107     3             -6.2           40   \n",
      "4     01/12/2017                 78     4             -6.0           36   \n",
      "...          ...                ...   ...              ...          ...   \n",
      "8755  30/11/2018               1003    19              4.2           34   \n",
      "8756  30/11/2018                764    20              3.4           37   \n",
      "8757  30/11/2018                694    21              2.6           39   \n",
      "8758  30/11/2018                712    22              2.1           41   \n",
      "8759  30/11/2018                584    23              1.9           43   \n",
      "\n",
      "      Wind speed (m/s)  Visibility (10m)  Dew point temperature(�C)  \\\n",
      "0                  2.2              2000                      -17.6   \n",
      "1                  0.8              2000                      -17.6   \n",
      "2                  1.0              2000                      -17.7   \n",
      "3                  0.9              2000                      -17.6   \n",
      "4                  2.3              2000                      -18.6   \n",
      "...                ...               ...                        ...   \n",
      "8755               2.6              1894                      -10.3   \n",
      "8756               2.3              2000                       -9.9   \n",
      "8757               0.3              1968                       -9.9   \n",
      "8758               1.0              1859                       -9.8   \n",
      "8759               1.3              1909                       -9.3   \n",
      "\n",
      "      Solar Radiation (MJ/m2)  Rainfall(mm)  Snowfall (cm) Seasons  \\\n",
      "0                         0.0           0.0            0.0  Winter   \n",
      "1                         0.0           0.0            0.0  Winter   \n",
      "2                         0.0           0.0            0.0  Winter   \n",
      "3                         0.0           0.0            0.0  Winter   \n",
      "4                         0.0           0.0            0.0  Winter   \n",
      "...                       ...           ...            ...     ...   \n",
      "8755                      0.0           0.0            0.0  Autumn   \n",
      "8756                      0.0           0.0            0.0  Autumn   \n",
      "8757                      0.0           0.0            0.0  Autumn   \n",
      "8758                      0.0           0.0            0.0  Autumn   \n",
      "8759                      0.0           0.0            0.0  Autumn   \n",
      "\n",
      "         Holiday Functioning Day  \n",
      "0     No Holiday             Yes  \n",
      "1     No Holiday             Yes  \n",
      "2     No Holiday             Yes  \n",
      "3     No Holiday             Yes  \n",
      "4     No Holiday             Yes  \n",
      "...          ...             ...  \n",
      "8755  No Holiday             Yes  \n",
      "8756  No Holiday             Yes  \n",
      "8757  No Holiday             Yes  \n",
      "8758  No Holiday             Yes  \n",
      "8759  No Holiday             Yes  \n",
      "\n",
      "[8760 rows x 14 columns]\n"
     ]
    }
   ],
   "source": [
    "df_p = pd.read_csv(\"./datasets/SeoulBikeData.csv\",encoding_errors=\"replace\")\n",
    "print(df_p)"
   ]
  },
  {
   "cell_type": "code",
   "execution_count": 5,
   "metadata": {},
   "outputs": [
    {
     "name": "stdout",
     "output_type": "stream",
     "text": [
      "Index(['Rented Bike Count', 'Hour', 'Temperature(�C)', 'Humidity(%)',\n",
      "       'Wind speed (m/s)', 'Visibility (10m)', 'Dew point temperature(�C)',\n",
      "       'Solar Radiation (MJ/m2)', 'Rainfall(mm)', 'Snowfall (cm)'],\n",
      "      dtype='object')\n",
      "      Hour  Temperature(�C)  Humidity(%)  Wind speed (m/s)  Visibility (10m)  \\\n",
      "0        0             -5.2           37               2.2              2000   \n",
      "1        1             -5.5           38               0.8              2000   \n",
      "2        2             -6.0           39               1.0              2000   \n",
      "3        3             -6.2           40               0.9              2000   \n",
      "4        4             -6.0           36               2.3              2000   \n",
      "...    ...              ...          ...               ...               ...   \n",
      "2155    19              2.5           95               1.9               838   \n",
      "2156    20              2.7           96               1.5              1479   \n",
      "2157    21              2.4           95               2.5              1349   \n",
      "2158    22              2.3           96               1.9              1207   \n",
      "2159    23              1.8           96               1.2               745   \n",
      "\n",
      "      Dew point temperature(�C)  Solar Radiation (MJ/m2)  Rainfall(mm)  \\\n",
      "0                         -17.6                      0.0           0.0   \n",
      "1                         -17.6                      0.0           0.0   \n",
      "2                         -17.7                      0.0           0.0   \n",
      "3                         -17.6                      0.0           0.0   \n",
      "4                         -18.6                      0.0           0.0   \n",
      "...                         ...                      ...           ...   \n",
      "2155                        1.7                      0.0           0.0   \n",
      "2156                        2.1                      0.0           0.0   \n",
      "2157                        1.6                      0.0           9.0   \n",
      "2158                        1.7                      0.0           0.0   \n",
      "2159                        1.2                      0.0           0.0   \n",
      "\n",
      "      Snowfall (cm)  \n",
      "0               0.0  \n",
      "1               0.0  \n",
      "2               0.0  \n",
      "3               0.0  \n",
      "4               0.0  \n",
      "...             ...  \n",
      "2155            0.0  \n",
      "2156            0.0  \n",
      "2157            0.0  \n",
      "2158            0.0  \n",
      "2159            0.0  \n",
      "\n",
      "[2160 rows x 9 columns]\n",
      "      Rented Bike Count\n",
      "0                   254\n",
      "1                   204\n",
      "2                   173\n",
      "3                   107\n",
      "4                    78\n",
      "...                 ...\n",
      "2155                 19\n",
      "2156                  8\n",
      "2157                 10\n",
      "2158                 13\n",
      "2159                 23\n",
      "\n",
      "[2160 rows x 1 columns]\n"
     ]
    }
   ],
   "source": [
    "print(df_p.columns[1:11]) #verify the column labels in use\n",
    "#preprocess data\n",
    "df_p.dropna(subset=df_p.columns[1:11],inplace=True)\n",
    "\n",
    "#split dataframe to data and labels\n",
    "X = df_p.loc[df_p[\"Seasons\"]==\"Winter\"].iloc[:,2:11]\n",
    "y = df_p.loc[df_p[\"Seasons\"]==\"Winter\"].loc[:,[\"Rented Bike Count\"]]\n",
    "print(X)\n",
    "print(y)"
   ]
  },
  {
   "cell_type": "markdown",
   "metadata": {},
   "source": [
    "### 2.b.\n",
    "* Split samples into 70% training and 30% testing data randomly with stratify=y."
   ]
  },
  {
   "cell_type": "code",
   "execution_count": 6,
   "metadata": {},
   "outputs": [
    {
     "name": "stdout",
     "output_type": "stream",
     "text": [
      "Number of training samples: 1512 -> 70.0%\n",
      "Number of testing samples: 648 -> 30.0%\n"
     ]
    }
   ],
   "source": [
    "#perform train test split : 70-30\n",
    "X_train,X_test,y_train,y_test = train_test_split(X,y,test_size=0.3,random_state=bike_split_seed)\n",
    "print(f\"Number of training samples: {len(X_train)} -> {round(100.0*len(X_train)/len(X),2)}%\")\n",
    "print(f\"Number of testing samples: {len(X_test)} -> {round(100.0*len(X_test)/len(X),2)}%\")"
   ]
  },
  {
   "cell_type": "code",
   "execution_count": 7,
   "metadata": {},
   "outputs": [
    {
     "name": "stderr",
     "output_type": "stream",
     "text": [
      "[I 2024-03-11 14:55:53,883] A new study created in memory with name: no-name-f5ef44f0-f74d-4f6d-8e79-71477c0aea22\n"
     ]
    },
    {
     "name": "stderr",
     "output_type": "stream",
     "text": [
      "[I 2024-03-11 14:55:54,043] Trial 0 finished with value: 64178.05201130523 and parameters: {'regressors': 'krr', 'alpha': 93.11114981416586, 'kkernel': 'linear', 'gamma': 84.69429130933628, 'degree': 3}. Best is trial 0 with value: 64178.05201130523.\n"
     ]
    },
    {
     "name": "stdout",
     "output_type": "stream",
     "text": [
      "Hyperparameters: regressor=KRR | alpha=93.11114981416586 | kernel=linear | gamma=84.69429130933628\n",
      "Pipeline done\n",
      "Train done\n",
      "Predict done\n",
      "Hyperparameters: regressor=KRR | alpha=63.92541048855612 | kernel=poly | gamma=23.93833656589662\n",
      "Pipeline done\n"
     ]
    },
    {
     "name": "stderr",
     "output_type": "stream",
     "text": [
      "c:\\Users\\Migui\\AppData\\Local\\Programs\\Python\\Python311\\Lib\\site-packages\\sklearn\\linear_model\\_ridge.py:241: LinAlgWarning: Ill-conditioned matrix (rcond=1.13866e-22): result may not be accurate.\n",
      "  dual_coef = linalg.solve(K, y, assume_a=\"pos\", overwrite_a=False)\n",
      "[I 2024-03-11 14:55:54,384] Trial 1 finished with value: 6955372172603.41 and parameters: {'regressors': 'krr', 'alpha': 63.92541048855612, 'kkernel': 'poly', 'gamma': 23.93833656589662, 'degree': 7}. Best is trial 0 with value: 64178.05201130523.\n",
      "[I 2024-03-11 14:55:54,394] Trial 2 finished with value: 14895.532297948395 and parameters: {'regressors': 'linreg'}. Best is trial 2 with value: 14895.532297948395.\n",
      "[I 2024-03-11 14:55:54,406] Trial 3 finished with value: 14895.532297948395 and parameters: {'regressors': 'linreg'}. Best is trial 2 with value: 14895.532297948395.\n"
     ]
    },
    {
     "name": "stdout",
     "output_type": "stream",
     "text": [
      "Train done\n",
      "Predict done\n",
      "Hyperparameters: regressor=Linear Regression\n",
      "Pipeline done\n",
      "Train done\n",
      "Predict done\n",
      "Hyperparameters: regressor=Linear Regression\n",
      "Pipeline done\n",
      "Train done\n",
      "Predict done\n",
      "Hyperparameters: regressor=SVR | kernel=poly | gamma=97.25691572027645 | epsilon=64.21731208542053\n",
      "Pipeline done\n"
     ]
    }
   ],
   "source": [
    "def bike_objective(trial,regressors = None):\n",
    "    scaler = StandardScaler()\n",
    "    if not regressors:\n",
    "        regressors = trial.suggest_categorical(\"regressors\",[\"svr\",\"krr\",\"linreg\"])\n",
    "    match regressors:\n",
    "        case \"svr\":\n",
    "            kernel = trial.suggest_categorical(\"skernel\",[\"linear\", \"poly\", \"rbf\", \"sigmoid\"])\n",
    "            gamma = trial.suggest_float('gamma',1e-2,1e2)\n",
    "            epsilon = trial.suggest_float('epsilon',1e-2,1e2)\n",
    "            regressor = SVR(kernel=kernel,gamma=gamma,epsilon=epsilon)\n",
    "            print(f\"Hyperparameters: regressor=SVR | kernel={kernel} | gamma={gamma} | epsilon={epsilon}\")\n",
    "        case \"krr\":\n",
    "            alpha = trial.suggest_float('alpha',1e-2,1e2)\n",
    "            kernel = trial.suggest_categorical(\"kkernel\",[\"linear\", \"poly\", \"polynomial\", \"rbf\", \"laplacian\", \"sigmoid\", \"cosine\"])\n",
    "            gamma = trial.suggest_float('gamma',1e-2,1e2)\n",
    "            degree = trial.suggest_int('degree',3,10)\n",
    "            regressor = KernelRidge(alpha=alpha,kernel=kernel,gamma=gamma,degree=degree)\n",
    "            print(f\"Hyperparameters: regressor=KRR | alpha={alpha} | kernel={kernel} | gamma={gamma}\")\n",
    "        case \"linreg\":\n",
    "            regressor = LinearRegression()\n",
    "            print(f\"Hyperparameters: regressor=Linear Regression\")\n",
    "        case _:\n",
    "            print(\"Error: regressor not found.\")\n",
    "            return -1\n",
    "    #make pipeline with parameters\n",
    "    bike_tuning_pipeline = Pipeline([\n",
    "    (\"scaler\",StandardScaler()),\n",
    "    (\"reg\",regressor)\n",
    "    ])\n",
    "    print(\"Pipeline done\")\n",
    "    #train data\n",
    "    bike_tuning_pipeline.fit(X_train,y_train.values.ravel())\n",
    "    print(\"Train done\")\n",
    "    #get predicted values from logistic regression\n",
    "    test_prediction = bike_tuning_pipeline.predict(X_test)\n",
    "    print(\"Predict done\")\n",
    "    #compute RMSE of pipeline\n",
    "    test_mse = mean_squared_error(y_test,test_prediction)\n",
    "    return test_mse\n",
    "\n",
    "bike_study = optuna.create_study()\n",
    "bike_study.optimize(bike_objective,n_trials=1000)\n",
    "print(bike_study.best_trial)"
   ]
  },
  {
   "cell_type": "markdown",
   "metadata": {},
   "source": [
    "* Construct pipeline with Standard Scaler and SVR\n",
    "* Compute RMSE"
   ]
  },
  {
   "cell_type": "code",
   "execution_count": 27,
   "metadata": {},
   "outputs": [
    {
     "name": "stdout",
     "output_type": "stream",
     "text": [
      "Kernel used: linear\n",
      "Kernel parameter used: 1\n",
      "Epsilon used: 0.0\n",
      "Training Set Error: 129.9918\n",
      "Testing Set Error: 123.0631\n"
     ]
    }
   ],
   "source": [
    "#define hyperparameters\n",
    "kernel = \"linear\"\n",
    "gamma = 1\n",
    "epsilon = 0.1\n",
    "\n",
    "#make pipeline with parameters\n",
    "bike_svr_pipeline = Pipeline([\n",
    "    (\"scaler\",StandardScaler()),\n",
    "    (\"svr\",SVR(kernel=kernel,gamma=gamma,epsilon=epsilon))\n",
    "])\n",
    "\n",
    "#train data\n",
    "bike_svr_pipeline.fit(X_train,y_train.values.ravel())\n",
    "\n",
    "#get predicted values from logistic regression\n",
    "train_svr_prediction = bike_svr_pipeline.predict(X_train)\n",
    "test_svr_prediction = bike_svr_pipeline.predict(X_test)\n",
    "\n",
    "#compute RMSE of pipeline\n",
    "train_svr_rmse = root_mean_squared_error(y_train,train_svr_prediction)\n",
    "test_svr_rmse = root_mean_squared_error(y_test,test_svr_prediction)\n",
    "print(f\"Kernel used: {kernel}\")\n",
    "print(f\"Kernel parameter used: {gamma}\")\n",
    "print(f\"Epsilon used: {epsilon}\")\n",
    "print(f\"Training Set Error: {round(train_svr_rmse,4)}\")\n",
    "print(f\"Testing Set Error: {round(test_svr_rmse,4)}\")"
   ]
  },
  {
   "cell_type": "markdown",
   "metadata": {},
   "source": [
    "### 2.c.\n",
    "* Repeat for KRR instead of SVR"
   ]
  },
  {
   "cell_type": "code",
   "execution_count": 34,
   "metadata": {},
   "outputs": [
    {
     "name": "stdout",
     "output_type": "stream",
     "text": [
      "Kernel used: linear\n",
      "Kernel parameter used: 3\n",
      "Alpha used: 0.4\n",
      "Training Set Error: 260.8477\n",
      "Testing Set Error: 254.1985\n"
     ]
    }
   ],
   "source": [
    "#define parameters\n",
    "alpha = 0.5\n",
    "kernel = \"linear\"\n",
    "gamma = 3\n",
    "degree = 5\n",
    "\n",
    "#make pipeline with parameters\n",
    "bike_krr_pipeline = Pipeline([\n",
    "    (\"scaler\",StandardScaler()),\n",
    "    (\"krr\",KernelRidge(alpha=alpha,kernel=kernel,gamma=gamma,degree=degree))\n",
    "])\n",
    "\n",
    "#train data\n",
    "bike_krr_pipeline.fit(X_train,y_train.values.ravel())\n",
    "\n",
    "#get predicted values from linear regression\n",
    "train_krr_prediction = bike_krr_pipeline.predict(X_train)\n",
    "test_krr_prediction = bike_krr_pipeline.predict(X_test)\n",
    "\n",
    "#compute RMSE of pipeline\n",
    "train_krr_rmse = root_mean_squared_error(y_train,train_krr_prediction)\n",
    "test_krr_rmse = root_mean_squared_error(y_test,test_krr_prediction)\n",
    "print(f\"Kernel used: {kernel}\")\n",
    "print(f\"Kernel parameter used: {gamma}\")\n",
    "print(f\"Alpha used: {alpha}\")\n",
    "print(f\"Training Set Error: {round(train_krr_rmse,4)}\")\n",
    "print(f\"Testing Set Error: {round(test_krr_rmse,4)}\")"
   ]
  },
  {
   "cell_type": "markdown",
   "metadata": {},
   "source": [
    "### 2.d.\n",
    "* Repeat for Linear Regression instead of SVR"
   ]
  },
  {
   "cell_type": "code",
   "execution_count": 35,
   "metadata": {},
   "outputs": [
    {
     "name": "stdout",
     "output_type": "stream",
     "text": [
      "Training Set Error: 127.1177\n",
      "Testing Set Error: 122.4427\n"
     ]
    }
   ],
   "source": [
    "#make pipeline\n",
    "bike_lin_pipeline = Pipeline([\n",
    "    (\"scaler\",StandardScaler()),\n",
    "    (\"linreg\",LinearRegression(fit_intercept=True))\n",
    "])\n",
    "\n",
    "#train data\n",
    "bike_lin_pipeline.fit(X_train,y_train.values.ravel())\n",
    "\n",
    "#get predicted values from linear regression\n",
    "train_lin_prediction = bike_lin_pipeline.predict(X_train)\n",
    "test_lin_prediction = bike_lin_pipeline.predict(X_test)\n",
    "\n",
    "#compute RMSE of pipeline\n",
    "train_lin_rmse = root_mean_squared_error(y_train,train_lin_prediction)\n",
    "test_lin_rmse = root_mean_squared_error(y_test,test_lin_prediction)\n",
    "print(f\"Training Set Error: {round(train_lin_rmse,4)}\")\n",
    "print(f\"Testing Set Error: {round(test_lin_rmse,4)}\")"
   ]
  },
  {
   "cell_type": "markdown",
   "metadata": {},
   "source": [
    "* Compare results for all three models"
   ]
  },
  {
   "cell_type": "code",
   "execution_count": null,
   "metadata": {},
   "outputs": [],
   "source": []
  }
 ],
 "metadata": {
  "kernelspec": {
   "display_name": "Python 3",
   "language": "python",
   "name": "python3"
  },
  "language_info": {
   "codemirror_mode": {
    "name": "ipython",
    "version": 3
   },
   "file_extension": ".py",
   "mimetype": "text/x-python",
   "name": "python",
   "nbconvert_exporter": "python",
   "pygments_lexer": "ipython3",
   "version": "3.11.5"
  }
 },
 "nbformat": 4,
 "nbformat_minor": 2
}

{
 "cells": [
  {
   "cell_type": "markdown",
   "metadata": {},
   "source": [
    "# AI 221 Machine Exercise 2\n",
    "# Name | SN | Batch\n",
    "#\n",
    "To replicate the results of the notebook, run all cells in sequence."
   ]
  },
  {
   "cell_type": "code",
   "execution_count": null,
   "metadata": {},
   "outputs": [],
   "source": [
    "#Import libraries\n",
    "import os\n",
    "import sklearn as sk\n",
    "import pandas as pd\n",
    "import numpy as np\n",
    "import seaborn as sn\n",
    "import matplotlib.pyplot as plt\n",
    "\n",
    "\n",
    "from sklearn.model_selection import train_test_split\n",
    "from sklearn.pipeline import Pipeline\n",
    "from sklearn.preprocessing import StandardScaler\n",
    "from sklearn.linear_model import LinearRegression\n",
    "from sklearn.svm import SVC, SVR\n",
    "from sklearn.kernel_ridge import KernelRidge\n",
    "from sklearn.metrics import root_mean_squared_error"
   ]
  },
  {
   "cell_type": "code",
   "execution_count": null,
   "metadata": {},
   "outputs": [],
   "source": [
    "seed = 413094539 #seed used for the report\n",
    "#uncomment to generate a new seed\n",
    "#seed = np.random.randint((2**31)-1)\n",
    "rng = np.random.default_rng(seed)\n",
    "penguin_split_seed = rng.integers((2**31)-1)\n",
    "penguin_svc_state = rng.integers((2**31)-1)\n",
    "bike_split_seed = rng.integers((2**31)-1)\n",
    "bike_svr_state = rng.integers((2**31)-1)\n",
    "\n",
    "\n",
    "print(f\"Seed used for randomizer: {seed}\")\n",
    "print(f\"Palmer Penguin Train-test Splitter Seed: {penguin_split_seed}\")\n",
    "print(f\"Palmer Penguin SVM Classifier Seed: {penguin_svc_state}\")\n",
    "print(f\"Bike Sharing Train-test Splitter Seed: {bike_split_seed}\")\n",
    "print(f\"Bike Sharing SVM Classifier Seed: {bike_svr_state}\")"
   ]
  },
  {
   "cell_type": "markdown",
   "metadata": {},
   "source": [
    "## Problem 1: Palmer Penguin Species Data Set"
   ]
  },
  {
   "cell_type": "code",
   "execution_count": null,
   "metadata": {},
   "outputs": [],
   "source": [
    "#Load the palmer penguins dataset\n",
    "df_p = pd.read_csv(\"./datasets/penguins_size.csv\")\n",
    "print(df_p)\n"
   ]
  },
  {
   "cell_type": "markdown",
   "metadata": {},
   "source": [
    "## Problem 2: Predicting Bike Sharing Demand in Seoul, South Korea"
   ]
  },
  {
   "cell_type": "code",
   "execution_count": null,
   "metadata": {},
   "outputs": [],
   "source": [
    "df_p = pd.read_csv(\"./datasets/SeoulBikeData.csv\",encoding_errors=\"replace\")\n",
    "print(df_p)"
   ]
  },
  {
   "cell_type": "code",
   "execution_count": null,
   "metadata": {},
   "outputs": [],
   "source": [
    "print(df_p[\"Rented Bike Count\"])"
   ]
  },
  {
   "cell_type": "code",
   "execution_count": 31,
   "metadata": {},
   "outputs": [
    {
     "name": "stdout",
     "output_type": "stream",
     "text": [
      "      Hour  Temperature(�C)  Humidity(%)  Wind speed (m/s)  Visibility (10m)  \\\n",
      "0        0             -5.2           37               2.2              2000   \n",
      "1        1             -5.5           38               0.8              2000   \n",
      "2        2             -6.0           39               1.0              2000   \n",
      "3        3             -6.2           40               0.9              2000   \n",
      "4        4             -6.0           36               2.3              2000   \n",
      "...    ...              ...          ...               ...               ...   \n",
      "2155    19              2.5           95               1.9               838   \n",
      "2156    20              2.7           96               1.5              1479   \n",
      "2157    21              2.4           95               2.5              1349   \n",
      "2158    22              2.3           96               1.9              1207   \n",
      "2159    23              1.8           96               1.2               745   \n",
      "\n",
      "      Dew point temperature(�C)  Solar Radiation (MJ/m2)  Rainfall(mm)  \n",
      "0                         -17.6                      0.0           0.0  \n",
      "1                         -17.6                      0.0           0.0  \n",
      "2                         -17.7                      0.0           0.0  \n",
      "3                         -17.6                      0.0           0.0  \n",
      "4                         -18.6                      0.0           0.0  \n",
      "...                         ...                      ...           ...  \n",
      "2155                        1.7                      0.0           0.0  \n",
      "2156                        2.1                      0.0           0.0  \n",
      "2157                        1.6                      0.0           9.0  \n",
      "2158                        1.7                      0.0           0.0  \n",
      "2159                        1.2                      0.0           0.0  \n",
      "\n",
      "[2160 rows x 8 columns]\n",
      "      Rented Bike Count\n",
      "0                   254\n",
      "1                   204\n",
      "2                   173\n",
      "3                   107\n",
      "4                    78\n",
      "...                 ...\n",
      "2155                 19\n",
      "2156                  8\n",
      "2157                 10\n",
      "2158                 13\n",
      "2159                 23\n",
      "\n",
      "[2160 rows x 1 columns]\n"
     ]
    }
   ],
   "source": [
    "#Preprocess data\n",
    "\n",
    "\n",
    "#split dataframe to data and labels\n",
    "X = df_p.loc[df_p[\"Seasons\"]==\"Winter\"].iloc[:,2:10]\n",
    "y = df_p.loc[df_p[\"Seasons\"]==\"Winter\"].loc[:,[\"Rented Bike Count\"]]\n",
    "print(X)\n",
    "print(y)"
   ]
  },
  {
   "cell_type": "markdown",
   "metadata": {},
   "source": [
    "### 2.b.\n",
    "* Split samples into 70% training and 30% testing data randomly with stratify=y."
   ]
  },
  {
   "cell_type": "code",
   "execution_count": 32,
   "metadata": {},
   "outputs": [
    {
     "name": "stdout",
     "output_type": "stream",
     "text": [
      "Number of training samples: 1512 -> 70.0%\n",
      "Number of testing samples: 648 -> 30.0%\n"
     ]
    }
   ],
   "source": [
    "#perform train test split : 70-30\n",
    "X_train,X_test,y_train,y_test = train_test_split(X,y,test_size=0.3,random_state=bike_split_seed)\n",
    "print(f\"Number of training samples: {len(X_train)} -> {round(100.0*len(X_train)/len(X),2)}%\")\n",
    "print(f\"Number of testing samples: {len(X_test)} -> {round(100.0*len(X_test)/len(X),2)}%\")"
   ]
  },
  {
   "cell_type": "markdown",
   "metadata": {},
   "source": [
    "* Construct pipeline with Standard Scaler and SVR\n",
    "* Compute RMSE"
   ]
  },
  {
   "cell_type": "code",
   "execution_count": 33,
   "metadata": {},
   "outputs": [
    {
     "name": "stdout",
     "output_type": "stream",
     "text": [
      "Kernel used: linear\n",
      "Kernel parameter used: 3\n",
      "Epsilon used: 0.4\n",
      "Training Set Error: 130.5076\n",
      "Testing Set Error: 123.6246\n"
     ]
    }
   ],
   "source": [
    "#define parameters\n",
    "kernel = \"linear\"\n",
    "gamma = 3\n",
    "epsilon = 0.4\n",
    "\n",
    "#make pipeline with parameters\n",
    "bike_svr_pipeline = Pipeline([\n",
    "    (\"scaler\",StandardScaler()),\n",
    "    (\"svr\",SVR(kernel=kernel,gamma=gamma,epsilon=epsilon))\n",
    "])\n",
    "\n",
    "#train data\n",
    "bike_svr_pipeline.fit(X_train,y_train.values.ravel())\n",
    "\n",
    "#get predicted values from logistic regression\n",
    "train_prediction = bike_svr_pipeline.predict(X_train)\n",
    "test_prediction = bike_svr_pipeline.predict(X_test)\n",
    "\n",
    "#compute RMSE of pipeline\n",
    "train_rmse = root_mean_squared_error(y_train,train_prediction)\n",
    "test_rmse = root_mean_squared_error(y_test,test_prediction)\n",
    "print(f\"Kernel used: {kernel}\")\n",
    "print(f\"Kernel parameter used: {gamma}\")\n",
    "print(f\"Epsilon used: {epsilon}\")\n",
    "print(f\"Training Set Error: {round(train_rmse,4)}\")\n",
    "print(f\"Testing Set Error: {round(test_rmse,4)}\")"
   ]
  },
  {
   "cell_type": "markdown",
   "metadata": {},
   "source": [
    "### 2.c.\n",
    "* Repeat for KRR instead of SVR"
   ]
  },
  {
   "cell_type": "code",
   "execution_count": 34,
   "metadata": {},
   "outputs": [
    {
     "name": "stdout",
     "output_type": "stream",
     "text": [
      "Kernel used: linear\n",
      "Kernel parameter used: 3\n",
      "Alpha used: 0.4\n",
      "Training Set Error: 260.8477\n",
      "Testing Set Error: 254.1985\n"
     ]
    }
   ],
   "source": [
    "#define parameters\n",
    "kernel = \"linear\"\n",
    "gamma = 3\n",
    "alpha = 0.4\n",
    "\n",
    "#make pipeline with parameters\n",
    "bike_krr_pipeline = Pipeline([\n",
    "    (\"scaler\",StandardScaler()),\n",
    "    (\"krr\",KernelRidge(kernel=kernel,gamma=gamma,alpha=alpha))\n",
    "])\n",
    "\n",
    "#train data\n",
    "bike_krr_pipeline.fit(X_train,y_train.values.ravel())\n",
    "\n",
    "#get predicted values from linear regression\n",
    "train_prediction = bike_krr_pipeline.predict(X_train)\n",
    "test_prediction = bike_krr_pipeline.predict(X_test)\n",
    "\n",
    "#compute RMSE of pipeline\n",
    "train_rmse = root_mean_squared_error(y_train,train_prediction)\n",
    "test_rmse = root_mean_squared_error(y_test,test_prediction)\n",
    "print(f\"Kernel used: {kernel}\")\n",
    "print(f\"Kernel parameter used: {gamma}\")\n",
    "print(f\"Alpha used: {alpha}\")\n",
    "print(f\"Training Set Error: {round(train_rmse,4)}\")\n",
    "print(f\"Testing Set Error: {round(test_rmse,4)}\")"
   ]
  },
  {
   "cell_type": "markdown",
   "metadata": {},
   "source": [
    "### 2.d.\n",
    "* Repeat for Linear Regression instead of SVR"
   ]
  },
  {
   "cell_type": "code",
   "execution_count": 35,
   "metadata": {},
   "outputs": [
    {
     "name": "stdout",
     "output_type": "stream",
     "text": [
      "Training Set Error: 127.1177\n",
      "Testing Set Error: 122.4427\n"
     ]
    }
   ],
   "source": [
    "#make pipeline\n",
    "bike_lin_pipeline = Pipeline([\n",
    "    (\"scaler\",StandardScaler()),\n",
    "    (\"linreg\",LinearRegression(fit_intercept=True))\n",
    "])\n",
    "\n",
    "#train data\n",
    "bike_lin_pipeline.fit(X_train,y_train.values.ravel())\n",
    "\n",
    "#get predicted values from linear regression\n",
    "train_prediction = bike_lin_pipeline.predict(X_train)\n",
    "test_prediction = bike_lin_pipeline.predict(X_test)\n",
    "\n",
    "#compute RMSE of pipeline\n",
    "train_rmse = root_mean_squared_error(y_train,train_prediction)\n",
    "test_rmse = root_mean_squared_error(y_test,test_prediction)\n",
    "print(f\"Training Set Error: {round(train_rmse,4)}\")\n",
    "print(f\"Testing Set Error: {round(test_rmse,4)}\")"
   ]
  },
  {
   "cell_type": "markdown",
   "metadata": {},
   "source": [
    "* Compare results for all three models"
   ]
  },
  {
   "cell_type": "code",
   "execution_count": null,
   "metadata": {},
   "outputs": [],
   "source": []
  }
 ],
 "metadata": {
  "kernelspec": {
   "display_name": "Python 3",
   "language": "python",
   "name": "python3"
  },
  "language_info": {
   "codemirror_mode": {
    "name": "ipython",
    "version": 3
   },
   "file_extension": ".py",
   "mimetype": "text/x-python",
   "name": "python",
   "nbconvert_exporter": "python",
   "pygments_lexer": "ipython3",
   "version": "3.11.5"
  }
 },
 "nbformat": 4,
 "nbformat_minor": 2
}
